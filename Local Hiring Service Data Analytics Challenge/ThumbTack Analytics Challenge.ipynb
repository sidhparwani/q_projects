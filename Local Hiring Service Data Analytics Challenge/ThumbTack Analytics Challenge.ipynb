{
 "cells": [
  {
   "cell_type": "markdown",
   "metadata": {},
   "source": [
    "# ThumbTack Analytics Challenge"
   ]
  },
  {
   "cell_type": "markdown",
   "metadata": {},
   "source": [
    "Prompt: Thumbtack has decided to take a closer look at performance in two of its largest categories - House Cleaning and Local Moving.\n",
    "\n",
    "Please summarize, based on your analysis of the provided data, what types of pros our customers are interested in (What metrics do you choose to quantify customers’ interest?).  \n",
    "\n",
    "Justify your recommendations based on your analysis of the provided data."
   ]
  },
  {
   "cell_type": "markdown",
   "metadata": {},
   "source": [
    "### Step 1: Import python packages and datasets"
   ]
  },
  {
   "cell_type": "code",
   "execution_count": 59,
   "metadata": {},
   "outputs": [],
   "source": [
    "# Data Imports\n",
    "import numpy as np\n",
    "import pandas as pd\n",
    "from pandas import Series, DataFrame\n",
    "\n",
    "# Plot imports\n",
    "import matplotlib.pyplot as plt\n",
    "import seaborn as sns\n",
    "sns.set_style('whitegrid')\n",
    "%matplotlib inline\n",
    "\n",
    "# Machine Learning Imports\n",
    "from sklearn.linear_model import LogisticRegression\n",
    "from sklearn.model_selection import train_test_split\n",
    "\n",
    "# For evaluating our ML results\n",
    "from sklearn import metrics\n",
    "\n",
    "#Import datetime packages\n",
    "from datetime import datetime\n",
    "from datetime import timedelta\n",
    "\n",
    "# Dataset Import\n",
    "contacts_df = pd.read_csv('C:\\\\Users\\\\sidhp\\\\Desktop\\\\Summer 2020\\\\ISYE4803\\\\Final Project\\\\ThumbTack Analytics Challenge Data\\\\Contacts.csv')\n",
    "visitors_df = pd.read_csv('C:\\\\Users\\\\sidhp\\\\Desktop\\\\Summer 2020\\\\ISYE4803\\\\Final Project\\\\ThumbTack Analytics Challenge Data\\\\Visitors.csv')\n",
    "\n",
    "import warnings\n",
    "warnings.filterwarnings(\"ignore\")"
   ]
  },
  {
   "cell_type": "markdown",
   "metadata": {},
   "source": [
    "### Step 2: Generate descriptive statistics using .head(), .describe(), and .info()"
   ]
  },
  {
   "cell_type": "code",
   "execution_count": 60,
   "metadata": {},
   "outputs": [
    {
     "data": {
      "text/html": [
       "<div>\n",
       "<style scoped>\n",
       "    .dataframe tbody tr th:only-of-type {\n",
       "        vertical-align: middle;\n",
       "    }\n",
       "\n",
       "    .dataframe tbody tr th {\n",
       "        vertical-align: top;\n",
       "    }\n",
       "\n",
       "    .dataframe thead th {\n",
       "        text-align: right;\n",
       "    }\n",
       "</style>\n",
       "<table border=\"1\" class=\"dataframe\">\n",
       "  <thead>\n",
       "    <tr style=\"text-align: right;\">\n",
       "      <th></th>\n",
       "      <th>visitor_id</th>\n",
       "      <th>pro_user_id</th>\n",
       "      <th>contact_id</th>\n",
       "      <th>hired</th>\n",
       "    </tr>\n",
       "  </thead>\n",
       "  <tbody>\n",
       "    <tr>\n",
       "      <th>0</th>\n",
       "      <td>339909111505494000</td>\n",
       "      <td>269676229116822000</td>\n",
       "      <td>339909524915273000</td>\n",
       "      <td>False</td>\n",
       "    </tr>\n",
       "    <tr>\n",
       "      <th>1</th>\n",
       "      <td>344128984608088000</td>\n",
       "      <td>343705945283207000</td>\n",
       "      <td>344129090535645000</td>\n",
       "      <td>False</td>\n",
       "    </tr>\n",
       "    <tr>\n",
       "      <th>2</th>\n",
       "      <td>344283283738624000</td>\n",
       "      <td>198869800397579000</td>\n",
       "      <td>344283629941841000</td>\n",
       "      <td>False</td>\n",
       "    </tr>\n",
       "  </tbody>\n",
       "</table>\n",
       "</div>"
      ],
      "text/plain": [
       "           visitor_id         pro_user_id          contact_id  hired\n",
       "0  339909111505494000  269676229116822000  339909524915273000  False\n",
       "1  344128984608088000  343705945283207000  344129090535645000  False\n",
       "2  344283283738624000  198869800397579000  344283629941841000  False"
      ]
     },
     "execution_count": 60,
     "metadata": {},
     "output_type": "execute_result"
    }
   ],
   "source": [
    "contacts_df.head(3)"
   ]
  },
  {
   "cell_type": "code",
   "execution_count": 61,
   "metadata": {},
   "outputs": [
    {
     "data": {
      "text/html": [
       "<div>\n",
       "<style scoped>\n",
       "    .dataframe tbody tr th:only-of-type {\n",
       "        vertical-align: middle;\n",
       "    }\n",
       "\n",
       "    .dataframe tbody tr th {\n",
       "        vertical-align: top;\n",
       "    }\n",
       "\n",
       "    .dataframe thead th {\n",
       "        text-align: right;\n",
       "    }\n",
       "</style>\n",
       "<table border=\"1\" class=\"dataframe\">\n",
       "  <thead>\n",
       "    <tr style=\"text-align: right;\">\n",
       "      <th></th>\n",
       "      <th>row_number</th>\n",
       "      <th>visitor_id</th>\n",
       "      <th>search_timestamp</th>\n",
       "      <th>category</th>\n",
       "      <th>pro_user_id</th>\n",
       "      <th>num_reviews</th>\n",
       "      <th>avg_rating</th>\n",
       "      <th>pro_last_active_time_before_search</th>\n",
       "      <th>cost_estimate_cents</th>\n",
       "      <th>result_position</th>\n",
       "      <th>service_page_viewed</th>\n",
       "    </tr>\n",
       "  </thead>\n",
       "  <tbody>\n",
       "    <tr>\n",
       "      <th>0</th>\n",
       "      <td>15173</td>\n",
       "      <td>344101422347558000</td>\n",
       "      <td>2018-11-26 15:43:43.365 UTC</td>\n",
       "      <td>Local Moving (under 50 miles)</td>\n",
       "      <td>343959583718981000</td>\n",
       "      <td>0</td>\n",
       "      <td>NaN</td>\n",
       "      <td>NaN</td>\n",
       "      <td>NaN</td>\n",
       "      <td>6</td>\n",
       "      <td>False</td>\n",
       "    </tr>\n",
       "    <tr>\n",
       "      <th>1</th>\n",
       "      <td>8426</td>\n",
       "      <td>344461605879021000</td>\n",
       "      <td>2018-11-30 19:46:46.593 UTC</td>\n",
       "      <td>House Cleaning</td>\n",
       "      <td>344053677817806000</td>\n",
       "      <td>0</td>\n",
       "      <td>NaN</td>\n",
       "      <td>2018-11-29 00:32:46.809 UTC</td>\n",
       "      <td>8900.0</td>\n",
       "      <td>6</td>\n",
       "      <td>False</td>\n",
       "    </tr>\n",
       "    <tr>\n",
       "      <th>2</th>\n",
       "      <td>12809</td>\n",
       "      <td>344142189241475000</td>\n",
       "      <td>2018-11-27 03:03:09.969 UTC</td>\n",
       "      <td>House Cleaning</td>\n",
       "      <td>343931062348177000</td>\n",
       "      <td>0</td>\n",
       "      <td>NaN</td>\n",
       "      <td>NaN</td>\n",
       "      <td>10000.0</td>\n",
       "      <td>21</td>\n",
       "      <td>False</td>\n",
       "    </tr>\n",
       "  </tbody>\n",
       "</table>\n",
       "</div>"
      ],
      "text/plain": [
       "   row_number          visitor_id             search_timestamp  \\\n",
       "0       15173  344101422347558000  2018-11-26 15:43:43.365 UTC   \n",
       "1        8426  344461605879021000  2018-11-30 19:46:46.593 UTC   \n",
       "2       12809  344142189241475000  2018-11-27 03:03:09.969 UTC   \n",
       "\n",
       "                        category         pro_user_id  num_reviews  avg_rating  \\\n",
       "0  Local Moving (under 50 miles)  343959583718981000            0         NaN   \n",
       "1                 House Cleaning  344053677817806000            0         NaN   \n",
       "2                 House Cleaning  343931062348177000            0         NaN   \n",
       "\n",
       "  pro_last_active_time_before_search  cost_estimate_cents  result_position  \\\n",
       "0                                NaN                  NaN                6   \n",
       "1        2018-11-29 00:32:46.809 UTC               8900.0                6   \n",
       "2                                NaN              10000.0               21   \n",
       "\n",
       "   service_page_viewed  \n",
       "0                False  \n",
       "1                False  \n",
       "2                False  "
      ]
     },
     "execution_count": 61,
     "metadata": {},
     "output_type": "execute_result"
    }
   ],
   "source": [
    "visitors_df.head(3)"
   ]
  },
  {
   "cell_type": "code",
   "execution_count": 62,
   "metadata": {},
   "outputs": [
    {
     "name": "stdout",
     "output_type": "stream",
     "text": [
      "<class 'pandas.core.frame.DataFrame'>\n",
      "RangeIndex: 1504 entries, 0 to 1503\n",
      "Data columns (total 4 columns):\n",
      "visitor_id     1504 non-null int64\n",
      "pro_user_id    1504 non-null int64\n",
      "contact_id     1504 non-null int64\n",
      "hired          1504 non-null bool\n",
      "dtypes: bool(1), int64(3)\n",
      "memory usage: 36.8 KB\n"
     ]
    }
   ],
   "source": [
    "contacts_df.info()"
   ]
  },
  {
   "cell_type": "markdown",
   "metadata": {},
   "source": [
    "As we can see, there are no missing data points in the contacts dataframe"
   ]
  },
  {
   "cell_type": "code",
   "execution_count": 63,
   "metadata": {},
   "outputs": [
    {
     "name": "stdout",
     "output_type": "stream",
     "text": [
      "<class 'pandas.core.frame.DataFrame'>\n",
      "RangeIndex: 26102 entries, 0 to 26101\n",
      "Data columns (total 11 columns):\n",
      "row_number                            26102 non-null int64\n",
      "visitor_id                            26102 non-null int64\n",
      "search_timestamp                      26102 non-null object\n",
      "category                              26102 non-null object\n",
      "pro_user_id                           26102 non-null int64\n",
      "num_reviews                           26102 non-null int64\n",
      "avg_rating                            24947 non-null float64\n",
      "pro_last_active_time_before_search    25035 non-null object\n",
      "cost_estimate_cents                   23944 non-null float64\n",
      "result_position                       26102 non-null int64\n",
      "service_page_viewed                   26102 non-null bool\n",
      "dtypes: bool(1), float64(2), int64(5), object(3)\n",
      "memory usage: 2.0+ MB\n"
     ]
    }
   ],
   "source": [
    "visitors_df.info()"
   ]
  },
  {
   "cell_type": "markdown",
   "metadata": {},
   "source": [
    "We seem to be missing values in a few columns in our visitors dataframe. Let's investigate further"
   ]
  },
  {
   "cell_type": "markdown",
   "metadata": {},
   "source": [
    "### Step 3: Finding missing values"
   ]
  },
  {
   "cell_type": "code",
   "execution_count": 64,
   "metadata": {},
   "outputs": [
    {
     "data": {
      "text/plain": [
       "row_number                               0\n",
       "visitor_id                               0\n",
       "search_timestamp                         0\n",
       "category                                 0\n",
       "pro_user_id                              0\n",
       "num_reviews                              0\n",
       "avg_rating                            1155\n",
       "pro_last_active_time_before_search    1067\n",
       "cost_estimate_cents                   2158\n",
       "result_position                          0\n",
       "service_page_viewed                      0\n",
       "dtype: int64"
      ]
     },
     "execution_count": 64,
     "metadata": {},
     "output_type": "execute_result"
    }
   ],
   "source": [
    "# check missing values in visitors data\n",
    "visitors_df.isnull().sum()"
   ]
  },
  {
   "cell_type": "code",
   "execution_count": 65,
   "metadata": {},
   "outputs": [
    {
     "name": "stdout",
     "output_type": "stream",
     "text": [
      "Percent of missing \"avg_rating\" records is 4.42%\n",
      "Percent of missing \"pro_last_active_time_before_search\" records is 4.09%\n",
      "Percent of missing \"cost_estimate_cents\" records is 8.27%\n"
     ]
    }
   ],
   "source": [
    "print('Percent of missing \"avg_rating\" records is %.2f%%' %((visitors_df['avg_rating'].isnull().sum()/visitors_df.shape[0])*100))\n",
    "print('Percent of missing \"pro_last_active_time_before_search\" records is %.2f%%' %((visitors_df['pro_last_active_time_before_search'].isnull().sum()/visitors_df.shape[0])*100))\n",
    "print('Percent of missing \"cost_estimate_cents\" records is %.2f%%' %((visitors_df['cost_estimate_cents'].isnull().sum()/visitors_df.shape[0])*100))"
   ]
  },
  {
   "cell_type": "markdown",
   "metadata": {},
   "source": [
    "Each column's missing data points can be filled with metrics found using the remaining data.\n",
    "\n",
    "However, before we fill in missing values, we must join the visitors and contacts dataset on the unique pro and visitor ids.\n",
    "\n",
    "Then seperate the combined data set into one containing Local Moving data and one containing House Cleaning data.\n",
    "\n",
    "Once separated we can find appropriate metrics to fill our missing data.\n",
    "\n",
    "This will make our analysis easier in the future."
   ]
  },
  {
   "cell_type": "code",
   "execution_count": 66,
   "metadata": {},
   "outputs": [],
   "source": [
    "# Left join datasets on both visitor_ids and pro_user_id\n",
    "cv_df = pd.merge(visitors_df, contacts_df, on=['visitor_id', 'pro_user_id'], how= 'left')"
   ]
  },
  {
   "cell_type": "code",
   "execution_count": 67,
   "metadata": {},
   "outputs": [],
   "source": [
    "# Create house cleaning dataset\n",
    "hc_df = cv_df[cv_df['category']=='House Cleaning']\n",
    "\n",
    "# Create local moving dataset\n",
    "lm_df = cv_df[cv_df['category']=='Local Moving (under 50 miles)']"
   ]
  },
  {
   "cell_type": "markdown",
   "metadata": {},
   "source": [
    " "
   ]
  },
  {
   "cell_type": "markdown",
   "metadata": {},
   "source": [
    "Now that we have seperated our dataset, we can find the missing values in each of these and find the appropriate values to fill them with."
   ]
  },
  {
   "cell_type": "code",
   "execution_count": 68,
   "metadata": {},
   "outputs": [
    {
     "data": {
      "text/plain": [
       "row_number                                0\n",
       "visitor_id                                0\n",
       "search_timestamp                          0\n",
       "category                                  0\n",
       "pro_user_id                               0\n",
       "num_reviews                               0\n",
       "avg_rating                              889\n",
       "pro_last_active_time_before_search      905\n",
       "cost_estimate_cents                    1492\n",
       "result_position                           0\n",
       "service_page_viewed                       0\n",
       "contact_id                            18245\n",
       "hired                                 18245\n",
       "dtype: int64"
      ]
     },
     "execution_count": 68,
     "metadata": {},
     "output_type": "execute_result"
    }
   ],
   "source": [
    "# check missing values in house cleaning data\n",
    "hc_df.isnull().sum()"
   ]
  },
  {
   "cell_type": "markdown",
   "metadata": {},
   "source": [
    "Because we joined the datasets, we know the NaN values arise from the observation not existing in the contacts dataframe.\n",
    "\n",
    "We will replace NaN values for 'hired' with False."
   ]
  },
  {
   "cell_type": "markdown",
   "metadata": {},
   "source": [
    " "
   ]
  },
  {
   "cell_type": "code",
   "execution_count": 69,
   "metadata": {},
   "outputs": [
    {
     "data": {
      "text/plain": [
       "Text(0.5, 0, 'avg_rating')"
      ]
     },
     "execution_count": 69,
     "metadata": {},
     "output_type": "execute_result"
    },
    {
     "data": {
      "image/png": "[encoded data removed]",
      "text/plain": [
       "<Figure size 432x288 with 1 Axes>"
      ]
     },
     "metadata": {
      "needs_background": "light"
     },
     "output_type": "display_data"
    }
   ],
   "source": [
    "# Use a plot to understand the distribution of the avg_rating data in the House Cleaning dataset\n",
    "hc_df[\"avg_rating\"].hist(bins=15, stacked=True, color='teal', alpha=0.6)\n",
    "plt.xlabel('avg_rating')"
   ]
  },
  {
   "cell_type": "markdown",
   "metadata": {},
   "source": [
    "As we can see the large majority of pros have an extremely high rating. We will fill the missing avg_rating values with mean avg_rating"
   ]
  },
  {
   "cell_type": "code",
   "execution_count": 70,
   "metadata": {},
   "outputs": [
    {
     "name": "stdout",
     "output_type": "stream",
     "text": [
      "The mean of \"avg_rating\" is 4.68\n"
     ]
    }
   ],
   "source": [
    "# mean avg_rating for House Cleaning\n",
    "print('The mean of \"avg_rating\" is %.2f' %(hc_df[\"avg_rating\"].mean(skipna=True)))"
   ]
  },
  {
   "cell_type": "markdown",
   "metadata": {},
   "source": [
    " "
   ]
  },
  {
   "cell_type": "code",
   "execution_count": 71,
   "metadata": {},
   "outputs": [],
   "source": [
    "# Let's investigate the pro_last_active_time_before_search timestamp values next\n",
    "# We must first convert the str timestamp values into datetime objects to work with them\n",
    "# We'll conver the data in the search_timestamp fisr\n",
    "hc_df['search_timestamp'] = pd.to_datetime(hc_df['search_timestamp'])\n",
    "\n",
    "# Let's do the same for the pro_last_active_time timestamp\n",
    "hc_df['pro_last_active_time_before_search'] = pd.to_datetime(hc_df['pro_last_active_time_before_search'])"
   ]
  },
  {
   "cell_type": "code",
   "execution_count": 72,
   "metadata": {},
   "outputs": [],
   "source": [
    "# Now lets make a column indicating how many days before the vistor's search the pro was last active\n",
    "hc_df['days_since_pro_last_active'] = (hc_df['search_timestamp'] - hc_df['pro_last_active_time_before_search']).dt.days"
   ]
  },
  {
   "cell_type": "code",
   "execution_count": 73,
   "metadata": {},
   "outputs": [
    {
     "data": {
      "text/html": [
       "<div>\n",
       "<style scoped>\n",
       "    .dataframe tbody tr th:only-of-type {\n",
       "        vertical-align: middle;\n",
       "    }\n",
       "\n",
       "    .dataframe tbody tr th {\n",
       "        vertical-align: top;\n",
       "    }\n",
       "\n",
       "    .dataframe thead th {\n",
       "        text-align: right;\n",
       "    }\n",
       "</style>\n",
       "<table border=\"1\" class=\"dataframe\">\n",
       "  <thead>\n",
       "    <tr style=\"text-align: right;\">\n",
       "      <th></th>\n",
       "      <th>row_number</th>\n",
       "      <th>visitor_id</th>\n",
       "      <th>search_timestamp</th>\n",
       "      <th>category</th>\n",
       "      <th>pro_user_id</th>\n",
       "      <th>num_reviews</th>\n",
       "      <th>avg_rating</th>\n",
       "      <th>pro_last_active_time_before_search</th>\n",
       "      <th>cost_estimate_cents</th>\n",
       "      <th>result_position</th>\n",
       "      <th>service_page_viewed</th>\n",
       "      <th>contact_id</th>\n",
       "      <th>hired</th>\n",
       "      <th>days_since_pro_last_active</th>\n",
       "    </tr>\n",
       "  </thead>\n",
       "  <tbody>\n",
       "    <tr>\n",
       "      <th>1</th>\n",
       "      <td>8426</td>\n",
       "      <td>344461605879021000</td>\n",
       "      <td>2018-11-30 19:46:46.593000+00:00</td>\n",
       "      <td>House Cleaning</td>\n",
       "      <td>344053677817806000</td>\n",
       "      <td>0</td>\n",
       "      <td>NaN</td>\n",
       "      <td>2018-11-29 00:32:46.809000+00:00</td>\n",
       "      <td>8900.0</td>\n",
       "      <td>6</td>\n",
       "      <td>False</td>\n",
       "      <td>NaN</td>\n",
       "      <td>NaN</td>\n",
       "      <td>1.0</td>\n",
       "    </tr>\n",
       "    <tr>\n",
       "      <th>2</th>\n",
       "      <td>12809</td>\n",
       "      <td>344142189241475000</td>\n",
       "      <td>2018-11-27 03:03:09.969000+00:00</td>\n",
       "      <td>House Cleaning</td>\n",
       "      <td>343931062348177000</td>\n",
       "      <td>0</td>\n",
       "      <td>NaN</td>\n",
       "      <td>NaT</td>\n",
       "      <td>10000.0</td>\n",
       "      <td>21</td>\n",
       "      <td>False</td>\n",
       "      <td>NaN</td>\n",
       "      <td>NaN</td>\n",
       "      <td>NaN</td>\n",
       "    </tr>\n",
       "    <tr>\n",
       "      <th>3</th>\n",
       "      <td>17310</td>\n",
       "      <td>344215295106097000</td>\n",
       "      <td>2018-11-27 23:21:35.890000+00:00</td>\n",
       "      <td>House Cleaning</td>\n",
       "      <td>343931062348177000</td>\n",
       "      <td>0</td>\n",
       "      <td>NaN</td>\n",
       "      <td>NaT</td>\n",
       "      <td>10000.0</td>\n",
       "      <td>22</td>\n",
       "      <td>False</td>\n",
       "      <td>NaN</td>\n",
       "      <td>NaN</td>\n",
       "      <td>NaN</td>\n",
       "    </tr>\n",
       "    <tr>\n",
       "      <th>4</th>\n",
       "      <td>10072</td>\n",
       "      <td>344364289304010000</td>\n",
       "      <td>2018-11-29 16:44:50.202000+00:00</td>\n",
       "      <td>House Cleaning</td>\n",
       "      <td>343934345272852000</td>\n",
       "      <td>0</td>\n",
       "      <td>NaN</td>\n",
       "      <td>NaT</td>\n",
       "      <td>9000.0</td>\n",
       "      <td>13</td>\n",
       "      <td>False</td>\n",
       "      <td>NaN</td>\n",
       "      <td>NaN</td>\n",
       "      <td>NaN</td>\n",
       "    </tr>\n",
       "    <tr>\n",
       "      <th>5</th>\n",
       "      <td>12571</td>\n",
       "      <td>344282205136609000</td>\n",
       "      <td>2018-11-28 17:56:45.914000+00:00</td>\n",
       "      <td>House Cleaning</td>\n",
       "      <td>343934345272852000</td>\n",
       "      <td>0</td>\n",
       "      <td>NaN</td>\n",
       "      <td>NaT</td>\n",
       "      <td>11000.0</td>\n",
       "      <td>25</td>\n",
       "      <td>False</td>\n",
       "      <td>NaN</td>\n",
       "      <td>NaN</td>\n",
       "      <td>NaN</td>\n",
       "    </tr>\n",
       "  </tbody>\n",
       "</table>\n",
       "</div>"
      ],
      "text/plain": [
       "   row_number          visitor_id                 search_timestamp  \\\n",
       "1        8426  344461605879021000 2018-11-30 19:46:46.593000+00:00   \n",
       "2       12809  344142189241475000 2018-11-27 03:03:09.969000+00:00   \n",
       "3       17310  344215295106097000 2018-11-27 23:21:35.890000+00:00   \n",
       "4       10072  344364289304010000 2018-11-29 16:44:50.202000+00:00   \n",
       "5       12571  344282205136609000 2018-11-28 17:56:45.914000+00:00   \n",
       "\n",
       "         category         pro_user_id  num_reviews  avg_rating  \\\n",
       "1  House Cleaning  344053677817806000            0         NaN   \n",
       "2  House Cleaning  343931062348177000            0         NaN   \n",
       "3  House Cleaning  343931062348177000            0         NaN   \n",
       "4  House Cleaning  343934345272852000            0         NaN   \n",
       "5  House Cleaning  343934345272852000            0         NaN   \n",
       "\n",
       "  pro_last_active_time_before_search  cost_estimate_cents  result_position  \\\n",
       "1   2018-11-29 00:32:46.809000+00:00               8900.0                6   \n",
       "2                                NaT              10000.0               21   \n",
       "3                                NaT              10000.0               22   \n",
       "4                                NaT               9000.0               13   \n",
       "5                                NaT              11000.0               25   \n",
       "\n",
       "   service_page_viewed  contact_id hired  days_since_pro_last_active  \n",
       "1                False         NaN   NaN                         1.0  \n",
       "2                False         NaN   NaN                         NaN  \n",
       "3                False         NaN   NaN                         NaN  \n",
       "4                False         NaN   NaN                         NaN  \n",
       "5                False         NaN   NaN                         NaN  "
      ]
     },
     "execution_count": 73,
     "metadata": {},
     "output_type": "execute_result"
    }
   ],
   "source": [
    "hc_df.head()"
   ]
  },
  {
   "cell_type": "code",
   "execution_count": 74,
   "metadata": {},
   "outputs": [
    {
     "data": {
      "text/plain": [
       "Text(0.5, 0, 'days_since_pro_last_active')"
      ]
     },
     "execution_count": 74,
     "metadata": {},
     "output_type": "execute_result"
    },
    {
     "data": {
      "image/png": "[encoded data removed]",
      "text/plain": [
       "<Figure size 432x288 with 1 Axes>"
      ]
     },
     "metadata": {
      "needs_background": "light"
     },
     "output_type": "display_data"
    }
   ],
   "source": [
    "# Use a plot to understand the distribution of the days_since_last_active data in the House Cleaning dataset\n",
    "hc_df[\"days_since_pro_last_active\"].hist(bins=15, stacked=True, color='orange', alpha=0.6)\n",
    "plt.xlabel('days_since_pro_last_active')"
   ]
  },
  {
   "cell_type": "code",
   "execution_count": 75,
   "metadata": {},
   "outputs": [
    {
     "data": {
      "text/plain": [
       "(0, 10)"
      ]
     },
     "execution_count": 75,
     "metadata": {},
     "output_type": "execute_result"
    },
    {
     "data": {
      "image/png": "[encoded data removed]",
      "text/plain": [
       "<Figure size 432x288 with 1 Axes>"
      ]
     },
     "metadata": {
      "needs_background": "light"
     },
     "output_type": "display_data"
    }
   ],
   "source": [
    "# Our distribution is slightly skewed to the right due to the large number of days since a minority of pros were last active\n",
    "# Let's dive deeper\n",
    "# Use a plot to understand the distribution of the days_since_last_active data in the House Cleaning dataset\n",
    "hc_df[\"days_since_pro_last_active\"].hist(bins=1000, stacked=True, color='orange', alpha=0.6)\n",
    "plt.xlabel('days_since_pro_last_active')\n",
    "plt.xlim(0,10)"
   ]
  },
  {
   "cell_type": "markdown",
   "metadata": {},
   "source": [
    "The large majority of pros were active within a day of the search result. We will use this to fill the NaN values in our days_since_pro_last_active column. Furthermore, we can drop the 'search_timestamp' and column 'pro_last_active_time_before_search' from our dataset."
   ]
  },
  {
   "cell_type": "code",
   "execution_count": 76,
   "metadata": {},
   "outputs": [
    {
     "name": "stdout",
     "output_type": "stream",
     "text": [
      "The mean of \"days_since_pro_last_active\" is 18.16\n",
      "The median of \"days_since_pro_last_active\" is 1.00\n"
     ]
    }
   ],
   "source": [
    "# mean days since last active\n",
    "print('The mean of \"days_since_pro_last_active\" is %.2f' %(hc_df[\"days_since_pro_last_active\"].mean(skipna=True)))\n",
    "# median days since last active\n",
    "print('The median of \"days_since_pro_last_active\" is %.2f' %(hc_df[\"days_since_pro_last_active\"].median(skipna=True)))"
   ]
  },
  {
   "cell_type": "markdown",
   "metadata": {},
   "source": [
    "  "
   ]
  },
  {
   "cell_type": "code",
   "execution_count": 77,
   "metadata": {},
   "outputs": [
    {
     "data": {
      "text/plain": [
       "(0, 40000)"
      ]
     },
     "execution_count": 77,
     "metadata": {},
     "output_type": "execute_result"
    },
    {
     "data": {
      "image/png": "[encoded data removed]",
      "text/plain": [
       "<Figure size 432x288 with 1 Axes>"
      ]
     },
     "metadata": {
      "needs_background": "light"
     },
     "output_type": "display_data"
    }
   ],
   "source": [
    "# Now let's look into the cost_estimate_cents data\n",
    "# Use a plot to understand the distribution of the cost_estimate_cents data in the House Cleaning dataset\n",
    "hc_df[\"cost_estimate_cents\"].hist(bins=15, stacked=True, color='green', alpha=0.6)\n",
    "plt.xlabel('cost_estimate_cents')\n",
    "plt.xlim(0,40000)"
   ]
  },
  {
   "cell_type": "code",
   "execution_count": 78,
   "metadata": {},
   "outputs": [
    {
     "name": "stdout",
     "output_type": "stream",
     "text": [
      "The mean of \"cost_estimate_cents\" is 11754.38\n",
      "The median of \"cost_estimate_cents\" is 10800.00\n"
     ]
    }
   ],
   "source": [
    "# mean cost_estimate_cents\n",
    "print('The mean of \"cost_estimate_cents\" is %.2f' %(hc_df[\"cost_estimate_cents\"].mean(skipna=True)))\n",
    "# median cost_estimate_cents\n",
    "print('The median of \"cost_estimate_cents\" is %.2f' %(hc_df[\"cost_estimate_cents\"].median(skipna=True)))"
   ]
  },
  {
   "cell_type": "markdown",
   "metadata": {},
   "source": [
    "As we can see here, the cost distribution is also slightly right skewed; therefore, we will use the median to fill our NaN values in the 'cost_estimate_cents' column."
   ]
  },
  {
   "cell_type": "markdown",
   "metadata": {},
   "source": [
    " "
   ]
  },
  {
   "cell_type": "markdown",
   "metadata": {},
   "source": [
    "### Now we are going to do the same investigation for the Local Moving dataset, before moving on to replacing the NaN data and performing explatory data analysis."
   ]
  },
  {
   "cell_type": "code",
   "execution_count": 79,
   "metadata": {},
   "outputs": [
    {
     "data": {
      "text/plain": [
       "row_number                               0\n",
       "visitor_id                               0\n",
       "search_timestamp                         0\n",
       "category                                 0\n",
       "pro_user_id                              0\n",
       "num_reviews                              0\n",
       "avg_rating                             266\n",
       "pro_last_active_time_before_search     162\n",
       "cost_estimate_cents                    666\n",
       "result_position                          0\n",
       "service_page_viewed                      0\n",
       "contact_id                            6353\n",
       "hired                                 6353\n",
       "dtype: int64"
      ]
     },
     "execution_count": 79,
     "metadata": {},
     "output_type": "execute_result"
    }
   ],
   "source": [
    "# check missing values in local moving data\n",
    "lm_df.isnull().sum()"
   ]
  },
  {
   "cell_type": "code",
   "execution_count": 80,
   "metadata": {},
   "outputs": [
    {
     "data": {
      "text/plain": [
       "Text(0.5, 0, 'avg_rating')"
      ]
     },
     "execution_count": 80,
     "metadata": {},
     "output_type": "execute_result"
    },
    {
     "data": {
      "image/png": "[encoded data removed]",
      "text/plain": [
       "<Figure size 432x288 with 1 Axes>"
      ]
     },
     "metadata": {
      "needs_background": "light"
     },
     "output_type": "display_data"
    }
   ],
   "source": [
    "# Use a plot to understand the distribution of the avg_rating data in the Local Moving dataset\n",
    "lm_df[\"avg_rating\"].hist(bins=15, stacked=True, color='teal', alpha=0.6)\n",
    "plt.xlabel('avg_rating')"
   ]
  },
  {
   "cell_type": "code",
   "execution_count": 81,
   "metadata": {},
   "outputs": [
    {
     "name": "stdout",
     "output_type": "stream",
     "text": [
      "The mean of \"avg_rating\" is 4.63\n"
     ]
    }
   ],
   "source": [
    "# mean avg_rating for Local Moving\n",
    "print('The mean of \"avg_rating\" is %.2f' %(lm_df[\"avg_rating\"].mean(skipna=True)))"
   ]
  },
  {
   "cell_type": "markdown",
   "metadata": {},
   "source": [
    "We will use the mean avg_rating to replace the NaN values in our avg_rating columns"
   ]
  },
  {
   "cell_type": "code",
   "execution_count": 82,
   "metadata": {},
   "outputs": [],
   "source": [
    "# Let's investigate the pro_last_active_time_before_search timestamp values next\n",
    "# We must first convert the str timestamp values into datetime objects to work with them\n",
    "# We'll conver the data in the search_timestamp fisr\n",
    "lm_df['search_timestamp'] = pd.to_datetime(lm_df['search_timestamp'])\n",
    "\n",
    "# Let's do the same for the pro_last_active_time timestamp\n",
    "lm_df['pro_last_active_time_before_search'] = pd.to_datetime(lm_df['pro_last_active_time_before_search'])"
   ]
  },
  {
   "cell_type": "code",
   "execution_count": 83,
   "metadata": {},
   "outputs": [],
   "source": [
    "# Now lets make a column indicating how many days before the vistor's search the pro was last active\n",
    "lm_df['days_since_pro_last_active'] = (lm_df['search_timestamp'] - lm_df['pro_last_active_time_before_search']).dt.days"
   ]
  },
  {
   "cell_type": "code",
   "execution_count": 84,
   "metadata": {},
   "outputs": [
    {
     "data": {
      "text/html": [
       "<div>\n",
       "<style scoped>\n",
       "    .dataframe tbody tr th:only-of-type {\n",
       "        vertical-align: middle;\n",
       "    }\n",
       "\n",
       "    .dataframe tbody tr th {\n",
       "        vertical-align: top;\n",
       "    }\n",
       "\n",
       "    .dataframe thead th {\n",
       "        text-align: right;\n",
       "    }\n",
       "</style>\n",
       "<table border=\"1\" class=\"dataframe\">\n",
       "  <thead>\n",
       "    <tr style=\"text-align: right;\">\n",
       "      <th></th>\n",
       "      <th>row_number</th>\n",
       "      <th>visitor_id</th>\n",
       "      <th>search_timestamp</th>\n",
       "      <th>category</th>\n",
       "      <th>pro_user_id</th>\n",
       "      <th>num_reviews</th>\n",
       "      <th>avg_rating</th>\n",
       "      <th>pro_last_active_time_before_search</th>\n",
       "      <th>cost_estimate_cents</th>\n",
       "      <th>result_position</th>\n",
       "      <th>service_page_viewed</th>\n",
       "      <th>contact_id</th>\n",
       "      <th>hired</th>\n",
       "      <th>days_since_pro_last_active</th>\n",
       "    </tr>\n",
       "  </thead>\n",
       "  <tbody>\n",
       "    <tr>\n",
       "      <th>0</th>\n",
       "      <td>15173</td>\n",
       "      <td>344101422347558000</td>\n",
       "      <td>2018-11-26 15:43:43.365000+00:00</td>\n",
       "      <td>Local Moving (under 50 miles)</td>\n",
       "      <td>343959583718981000</td>\n",
       "      <td>0</td>\n",
       "      <td>NaN</td>\n",
       "      <td>NaT</td>\n",
       "      <td>NaN</td>\n",
       "      <td>6</td>\n",
       "      <td>False</td>\n",
       "      <td>NaN</td>\n",
       "      <td>NaN</td>\n",
       "      <td>NaN</td>\n",
       "    </tr>\n",
       "    <tr>\n",
       "      <th>10</th>\n",
       "      <td>17285</td>\n",
       "      <td>344105876235608000</td>\n",
       "      <td>2018-11-26 16:57:56.892000+00:00</td>\n",
       "      <td>Local Moving (under 50 miles)</td>\n",
       "      <td>343762483238674000</td>\n",
       "      <td>0</td>\n",
       "      <td>NaN</td>\n",
       "      <td>2018-11-25 20:51:44.805000+00:00</td>\n",
       "      <td>3500.0</td>\n",
       "      <td>15</td>\n",
       "      <td>False</td>\n",
       "      <td>NaN</td>\n",
       "      <td>NaN</td>\n",
       "      <td>0.0</td>\n",
       "    </tr>\n",
       "  </tbody>\n",
       "</table>\n",
       "</div>"
      ],
      "text/plain": [
       "    row_number          visitor_id                 search_timestamp  \\\n",
       "0        15173  344101422347558000 2018-11-26 15:43:43.365000+00:00   \n",
       "10       17285  344105876235608000 2018-11-26 16:57:56.892000+00:00   \n",
       "\n",
       "                         category         pro_user_id  num_reviews  \\\n",
       "0   Local Moving (under 50 miles)  343959583718981000            0   \n",
       "10  Local Moving (under 50 miles)  343762483238674000            0   \n",
       "\n",
       "    avg_rating pro_last_active_time_before_search  cost_estimate_cents  \\\n",
       "0          NaN                                NaT                  NaN   \n",
       "10         NaN   2018-11-25 20:51:44.805000+00:00               3500.0   \n",
       "\n",
       "    result_position  service_page_viewed  contact_id hired  \\\n",
       "0                 6                False         NaN   NaN   \n",
       "10               15                False         NaN   NaN   \n",
       "\n",
       "    days_since_pro_last_active  \n",
       "0                          NaN  \n",
       "10                         0.0  "
      ]
     },
     "execution_count": 84,
     "metadata": {},
     "output_type": "execute_result"
    }
   ],
   "source": [
    "lm_df.head(2)"
   ]
  },
  {
   "cell_type": "markdown",
   "metadata": {},
   "source": [
    " \n"
   ]
  },
  {
   "cell_type": "code",
   "execution_count": 85,
   "metadata": {},
   "outputs": [
    {
     "data": {
      "text/plain": [
       "(0, 10)"
      ]
     },
     "execution_count": 85,
     "metadata": {},
     "output_type": "execute_result"
    },
    {
     "data": {
      "image/png": "[encoded data removed]",
      "text/plain": [
       "<Figure size 432x288 with 1 Axes>"
      ]
     },
     "metadata": {
      "needs_background": "light"
     },
     "output_type": "display_data"
    }
   ],
   "source": [
    "# Use a histplot to understand the distribution of the days_since_last_active data in the Local Moving dataset\n",
    "lm_df[\"days_since_pro_last_active\"].hist(bins=1000, stacked=True, color='orange', alpha=0.6)\n",
    "plt.xlabel('days_since_pro_last_active')\n",
    "plt.xlim(0,10)"
   ]
  },
  {
   "cell_type": "markdown",
   "metadata": {},
   "source": [
    "Most Local Moving pros were last active the same day of the vistor's search "
   ]
  },
  {
   "cell_type": "code",
   "execution_count": 86,
   "metadata": {},
   "outputs": [
    {
     "name": "stdout",
     "output_type": "stream",
     "text": [
      "The mean of \"days_since_pro_last_active\" is 3.68\n",
      "The median of \"days_since_pro_last_active\" is 0.00\n"
     ]
    }
   ],
   "source": [
    "# mean days since last active\n",
    "print('The mean of \"days_since_pro_last_active\" is %.2f' %(lm_df[\"days_since_pro_last_active\"].mean(skipna=True)))\n",
    "# median days since last active\n",
    "print('The median of \"days_since_pro_last_active\" is %.2f' %(lm_df[\"days_since_pro_last_active\"].median(skipna=True)))"
   ]
  },
  {
   "cell_type": "markdown",
   "metadata": {},
   "source": [
    " "
   ]
  },
  {
   "cell_type": "code",
   "execution_count": 87,
   "metadata": {},
   "outputs": [
    {
     "data": {
      "text/plain": [
       "(0, 40000)"
      ]
     },
     "execution_count": 87,
     "metadata": {},
     "output_type": "execute_result"
    },
    {
     "data": {
      "image/png": "[encoded data removed]",
      "text/plain": [
       "<Figure size 432x288 with 1 Axes>"
      ]
     },
     "metadata": {
      "needs_background": "light"
     },
     "output_type": "display_data"
    }
   ],
   "source": [
    "# Now let's look into the cost_estimate_cents data\n",
    "# Use a plot to understand the distribution of the cost_estimate_cents data in the Local Moving dataset\n",
    "lm_df[\"cost_estimate_cents\"].hist(bins=15, stacked=True, color='green', alpha=0.6)\n",
    "plt.xlabel('cost_estimate_cents')\n",
    "plt.xlim(0,40000)"
   ]
  },
  {
   "cell_type": "code",
   "execution_count": 88,
   "metadata": {},
   "outputs": [
    {
     "name": "stdout",
     "output_type": "stream",
     "text": [
      "The mean of \"cost_estimate_cents\" is 10227.30\n",
      "The median of \"cost_estimate_cents\" is 9500.00\n"
     ]
    }
   ],
   "source": [
    "# mean cost_estimate_cents\n",
    "print('The mean of \"cost_estimate_cents\" is %.2f' %(lm_df[\"cost_estimate_cents\"].mean(skipna=True)))\n",
    "# median cost_estimate_cents\n",
    "print('The median of \"cost_estimate_cents\" is %.2f' %(lm_df[\"cost_estimate_cents\"].median(skipna=True)))"
   ]
  },
  {
   "cell_type": "markdown",
   "metadata": {},
   "source": [
    "Because are cost data is also right skewed, we will use the median cost to fill our NaN values."
   ]
  },
  {
   "cell_type": "markdown",
   "metadata": {},
   "source": [
    "### Step 4: Replacing missing values and dropping unncessary columns"
   ]
  },
  {
   "cell_type": "code",
   "execution_count": 89,
   "metadata": {},
   "outputs": [],
   "source": [
    "# Copy datasets\n",
    "hc_data = hc_df.copy()\n",
    "lm_data = lm_df.copy()\n",
    "\n",
    "# fill NaN values in avg_rating column with mean of avg_rating\n",
    "hc_data[\"avg_rating\"].fillna(hc_data[\"avg_rating\"].mean(skipna=True), inplace=True)\n",
    "lm_data[\"avg_rating\"].fillna(lm_data[\"avg_rating\"].mean(skipna=True), inplace=True)\n",
    "\n",
    "# drop search timestamp and pro_last_active timestamp\n",
    "hc_data.drop(['pro_last_active_time_before_search','search_timestamp'], axis=1, inplace=True)\n",
    "lm_data.drop(['pro_last_active_time_before_search','search_timestamp'], axis=1, inplace=True)\n",
    "\n",
    "# replce NaN values in \"days since last active\" with median of that column\n",
    "hc_data[\"days_since_pro_last_active\"].fillna(hc_data[\"days_since_pro_last_active\"].median(skipna=True), inplace=True)\n",
    "lm_data[\"days_since_pro_last_active\"].fillna(lm_data[\"days_since_pro_last_active\"].median(skipna=True), inplace=True)\n",
    "\n",
    "# replace NaN values in cost_estimate_cents with median value\n",
    "hc_data[\"cost_estimate_cents\"].fillna(hc_data[\"cost_estimate_cents\"].median(skipna=True), inplace=True)\n",
    "lm_data[\"cost_estimate_cents\"].fillna(lm_data[\"cost_estimate_cents\"].median(skipna=True), inplace=True)\n",
    "\n",
    "# make new column for cost estimation in dollars\n",
    "hc_data[\"cost_estimate_dollars\"] = hc_data[\"cost_estimate_cents\"].apply(lambda x: x/100)\n",
    "lm_data[\"cost_estimate_dollars\"] = lm_data[\"cost_estimate_cents\"].apply(lambda x: x/100)\n",
    "\n",
    "# drop estimation_cents column\n",
    "hc_data.drop(\"cost_estimate_cents\", axis=1, inplace=True)\n",
    "lm_data.drop(\"cost_estimate_cents\", axis=1, inplace=True)"
   ]
  },
  {
   "cell_type": "code",
   "execution_count": 90,
   "metadata": {},
   "outputs": [],
   "source": [
    "# make contact_id binary variable 1 if contacted, 0 if not \n",
    "hc_data['contact_id'] = hc_data[\"contact_id\"].fillna(0)\n",
    "hc_data['contact_id'] = np.where((hc_data.contact_id == 0),0,1)\n",
    "\n",
    "lm_data['contact_id'] = lm_data[\"contact_id\"].fillna(0)\n",
    "lm_data['contact_id'] = np.where((lm_data.contact_id == 0),0,1)\n",
    "\n",
    "# replace NaN values in hired with False\n",
    "hc_data['hired'] = hc_data[\"hired\"].fillna(0)\n",
    "lm_data['hired'] = lm_data[\"hired\"].fillna(0)\n",
    "\n",
    "# make hired a 0,1 binary variable\n",
    "hc_data['hired'] = np.where((hc_data.hired == False),0,1)\n",
    "lm_data['hired'] = np.where((lm_data.hired == False),0,1)\n",
    "\n",
    "# make service_page_viewed a 0,1 binary variable\n",
    "hc_data['service_page_viewed'] = np.where((hc_data.service_page_viewed == False),0,1)\n",
    "lm_data['service_page_viewed'] = np.where((lm_data.service_page_viewed == False),0,1)"
   ]
  },
  {
   "cell_type": "code",
   "execution_count": 91,
   "metadata": {},
   "outputs": [
    {
     "data": {
      "text/html": [
       "<div>\n",
       "<style scoped>\n",
       "    .dataframe tbody tr th:only-of-type {\n",
       "        vertical-align: middle;\n",
       "    }\n",
       "\n",
       "    .dataframe tbody tr th {\n",
       "        vertical-align: top;\n",
       "    }\n",
       "\n",
       "    .dataframe thead th {\n",
       "        text-align: right;\n",
       "    }\n",
       "</style>\n",
       "<table border=\"1\" class=\"dataframe\">\n",
       "  <thead>\n",
       "    <tr style=\"text-align: right;\">\n",
       "      <th></th>\n",
       "      <th>row_number</th>\n",
       "      <th>visitor_id</th>\n",
       "      <th>category</th>\n",
       "      <th>pro_user_id</th>\n",
       "      <th>num_reviews</th>\n",
       "      <th>avg_rating</th>\n",
       "      <th>result_position</th>\n",
       "      <th>service_page_viewed</th>\n",
       "      <th>contact_id</th>\n",
       "      <th>hired</th>\n",
       "      <th>days_since_pro_last_active</th>\n",
       "      <th>cost_estimate_dollars</th>\n",
       "    </tr>\n",
       "  </thead>\n",
       "  <tbody>\n",
       "    <tr>\n",
       "      <th>1</th>\n",
       "      <td>8426</td>\n",
       "      <td>344461605879021000</td>\n",
       "      <td>House Cleaning</td>\n",
       "      <td>344053677817806000</td>\n",
       "      <td>0</td>\n",
       "      <td>4.681478</td>\n",
       "      <td>6</td>\n",
       "      <td>0</td>\n",
       "      <td>0</td>\n",
       "      <td>0</td>\n",
       "      <td>1.0</td>\n",
       "      <td>89.0</td>\n",
       "    </tr>\n",
       "    <tr>\n",
       "      <th>2</th>\n",
       "      <td>12809</td>\n",
       "      <td>344142189241475000</td>\n",
       "      <td>House Cleaning</td>\n",
       "      <td>343931062348177000</td>\n",
       "      <td>0</td>\n",
       "      <td>4.681478</td>\n",
       "      <td>21</td>\n",
       "      <td>0</td>\n",
       "      <td>0</td>\n",
       "      <td>0</td>\n",
       "      <td>1.0</td>\n",
       "      <td>100.0</td>\n",
       "    </tr>\n",
       "    <tr>\n",
       "      <th>3</th>\n",
       "      <td>17310</td>\n",
       "      <td>344215295106097000</td>\n",
       "      <td>House Cleaning</td>\n",
       "      <td>343931062348177000</td>\n",
       "      <td>0</td>\n",
       "      <td>4.681478</td>\n",
       "      <td>22</td>\n",
       "      <td>0</td>\n",
       "      <td>0</td>\n",
       "      <td>0</td>\n",
       "      <td>1.0</td>\n",
       "      <td>100.0</td>\n",
       "    </tr>\n",
       "    <tr>\n",
       "      <th>4</th>\n",
       "      <td>10072</td>\n",
       "      <td>344364289304010000</td>\n",
       "      <td>House Cleaning</td>\n",
       "      <td>343934345272852000</td>\n",
       "      <td>0</td>\n",
       "      <td>4.681478</td>\n",
       "      <td>13</td>\n",
       "      <td>0</td>\n",
       "      <td>0</td>\n",
       "      <td>0</td>\n",
       "      <td>1.0</td>\n",
       "      <td>90.0</td>\n",
       "    </tr>\n",
       "    <tr>\n",
       "      <th>5</th>\n",
       "      <td>12571</td>\n",
       "      <td>344282205136609000</td>\n",
       "      <td>House Cleaning</td>\n",
       "      <td>343934345272852000</td>\n",
       "      <td>0</td>\n",
       "      <td>4.681478</td>\n",
       "      <td>25</td>\n",
       "      <td>0</td>\n",
       "      <td>0</td>\n",
       "      <td>0</td>\n",
       "      <td>1.0</td>\n",
       "      <td>110.0</td>\n",
       "    </tr>\n",
       "  </tbody>\n",
       "</table>\n",
       "</div>"
      ],
      "text/plain": [
       "   row_number          visitor_id        category         pro_user_id  \\\n",
       "1        8426  344461605879021000  House Cleaning  344053677817806000   \n",
       "2       12809  344142189241475000  House Cleaning  343931062348177000   \n",
       "3       17310  344215295106097000  House Cleaning  343931062348177000   \n",
       "4       10072  344364289304010000  House Cleaning  343934345272852000   \n",
       "5       12571  344282205136609000  House Cleaning  343934345272852000   \n",
       "\n",
       "   num_reviews  avg_rating  result_position  service_page_viewed  contact_id  \\\n",
       "1            0    4.681478                6                    0           0   \n",
       "2            0    4.681478               21                    0           0   \n",
       "3            0    4.681478               22                    0           0   \n",
       "4            0    4.681478               13                    0           0   \n",
       "5            0    4.681478               25                    0           0   \n",
       "\n",
       "   hired  days_since_pro_last_active  cost_estimate_dollars  \n",
       "1      0                         1.0                   89.0  \n",
       "2      0                         1.0                  100.0  \n",
       "3      0                         1.0                  100.0  \n",
       "4      0                         1.0                   90.0  \n",
       "5      0                         1.0                  110.0  "
      ]
     },
     "execution_count": 91,
     "metadata": {},
     "output_type": "execute_result"
    }
   ],
   "source": [
    "hc_data.head()"
   ]
  },
  {
   "cell_type": "markdown",
   "metadata": {},
   "source": [
    "### Step 5: More exploratory data analysis"
   ]
  },
  {
   "cell_type": "markdown",
   "metadata": {},
   "source": [
    "#### Let's start by exploring number of reviews"
   ]
  },
  {
   "cell_type": "code",
   "execution_count": 92,
   "metadata": {},
   "outputs": [
    {
     "data": {
      "image/png": "[encoded data removed]",
      "text/plain": [
       "<Figure size 432x288 with 1 Axes>"
      ]
     },
     "metadata": {
      "needs_background": "light"
     },
     "output_type": "display_data"
    }
   ],
   "source": [
    "# Create a density plot to view the distribution for the number of reviews for hired vs unhired contractors\n",
    "# Starting with the House Cleaning Data\n",
    "ax = sns.kdeplot(hc_data[\"num_reviews\"][hc_data.hired == 1], color=\"darkturquoise\", shade=True)\n",
    "sns.kdeplot(hc_data[\"num_reviews\"][hc_data.hired == 0], color=\"lightcoral\", shade=True)\n",
    "plt.legend(['Hired', 'Not Hired'])\n",
    "plt.title('Density Plot of Number of Reviews for Hired Cleaners')\n",
    "ax.set(xlabel='Number of Reviews')\n",
    "plt.xlim(0,400)\n",
    "plt.show()"
   ]
  },
  {
   "cell_type": "code",
   "execution_count": 93,
   "metadata": {},
   "outputs": [
    {
     "data": {
      "image/png": "[encoded data removed]",
      "text/plain": [
       "<Figure size 432x288 with 1 Axes>"
      ]
     },
     "metadata": {
      "needs_background": "light"
     },
     "output_type": "display_data"
    }
   ],
   "source": [
    "# Creating the same plot for Local Moving\n",
    "ax = sns.kdeplot(lm_data[\"num_reviews\"][lm_data.hired == 1], color=\"darkturquoise\", shade=True)\n",
    "sns.kdeplot(lm_data[\"num_reviews\"][lm_data.hired == 0], color=\"lightcoral\", shade=True)\n",
    "plt.legend(['Hired', 'Not Hired'])\n",
    "plt.title('Density Plot of Number of Reviews for Hired Movers')\n",
    "ax.set(xlabel='Number of Reviews')\n",
    "plt.xlim(0,400)\n",
    "plt.show()"
   ]
  },
  {
   "cell_type": "markdown",
   "metadata": {},
   "source": [
    "The distributions for those who were hired vs those were not hired is clearly different. It seems contractors with less reviews are less likely to be hired. This may be a strong predictor in our model later."
   ]
  },
  {
   "cell_type": "markdown",
   "metadata": {},
   "source": [
    " "
   ]
  },
  {
   "cell_type": "markdown",
   "metadata": {},
   "source": [
    "#### Exploring Avg. Rating"
   ]
  },
  {
   "cell_type": "code",
   "execution_count": 94,
   "metadata": {},
   "outputs": [
    {
     "data": {
      "text/plain": [
       "avg_rating\n",
       "(0.0, 4.0]    0.001380\n",
       "(4.0, 4.5]    0.008635\n",
       "(4.5, 4.6]    0.015476\n",
       "(4.6, 4.7]    0.010152\n",
       "(4.7, 4.8]    0.017016\n",
       "(4.8, 4.9]    0.016336\n",
       "(4.9, 5.0]    0.010323\n",
       "Name: hired, dtype: float64"
      ]
     },
     "execution_count": 94,
     "metadata": {},
     "output_type": "execute_result"
    }
   ],
   "source": [
    "# Split housing cleaners into avg_rating groups and find hiring rate for each avg_rating group\n",
    "bins = pd.IntervalIndex.from_tuples([(0, 4), (4, 4.5), (4.5, 4.6), (4.6, 4.7), (4.7, 4.8), (4.8, 4.9), (4.9, 5.0)])\n",
    "hc_data['hired'].groupby(pd.cut(hc_data['avg_rating'],bins)).mean()"
   ]
  },
  {
   "cell_type": "code",
   "execution_count": 95,
   "metadata": {},
   "outputs": [
    {
     "data": {
      "text/plain": [
       "avg_rating\n",
       "(0.0, 4.0]    0.003922\n",
       "(4.0, 4.5]    0.030936\n",
       "(4.5, 4.6]    0.024291\n",
       "(4.6, 4.7]    0.016840\n",
       "(4.7, 4.8]    0.036215\n",
       "(4.8, 4.9]    0.025572\n",
       "(4.9, 5.0]    0.015385\n",
       "Name: hired, dtype: float64"
      ]
     },
     "execution_count": 95,
     "metadata": {},
     "output_type": "execute_result"
    }
   ],
   "source": [
    "# Split movers into avg_rating groups and find hiring rate for each avg_rating group\n",
    "bins = pd.IntervalIndex.from_tuples([(0, 4), (4, 4.5), (4.5, 4.6), (4.6, 4.7), (4.7, 4.8), (4.8, 4.9), (4.9, 5.0)])\n",
    "lm_data['hired'].groupby(pd.cut(lm_data['avg_rating'],bins)).mean()"
   ]
  },
  {
   "cell_type": "markdown",
   "metadata": {},
   "source": [
    "As we saw earlier, the mean avg_rating was already extremely high. Based on the data, we can see that generally, the higher the rating, the more likely a contractor is to get hired. Visitors hiring movers seem less sensitive to the movers avg_rating than visitors hiring cleaners. However, the hiring rates among various groups of avg_ratings seems to plateau once the cleaner has an avg_rating above a 4.5 and the mover has an avg_rating above a 4.0. Avg_rating fails to remain as a strong predictor after that point. Therefore, we can say that there must be a stronger predictor among our variables."
   ]
  },
  {
   "cell_type": "markdown",
   "metadata": {},
   "source": [
    "#### Exploring Result Position"
   ]
  },
  {
   "cell_type": "code",
   "execution_count": 96,
   "metadata": {},
   "outputs": [
    {
     "data": {
      "image/png": "[encoded data removed]",
      "text/plain": [
       "<Figure size 432x288 with 1 Axes>"
      ]
     },
     "metadata": {
      "needs_background": "light"
     },
     "output_type": "display_data"
    }
   ],
   "source": [
    "# Create a density plot to view the distribution for the result_position for hired vs unhired contractors\n",
    "# Starting with the House Cleaning Data\n",
    "ax = sns.kdeplot(hc_data[\"result_position\"][hc_data.hired == 1], color=\"darkturquoise\", shade=True)\n",
    "sns.kdeplot(hc_data[\"result_position\"][hc_data.hired == 0], color=\"lightcoral\", shade=True)\n",
    "plt.legend(['Hired', 'Not Hired'])\n",
    "plt.title('Density Plot of Result Position for Hired Cleaners')\n",
    "ax.set(xlabel='Result Position')\n",
    "plt.xlim(0,30)\n",
    "plt.show()"
   ]
  },
  {
   "cell_type": "code",
   "execution_count": 97,
   "metadata": {},
   "outputs": [
    {
     "data": {
      "text/plain": [
       "result_position\n",
       "(0, 1]     0.052409\n",
       "(1, 2]     0.024458\n",
       "(2, 3]     0.013740\n",
       "(3, 4]     0.009247\n",
       "(4, 5]     0.008817\n",
       "(5, 30]    0.001479\n",
       "Name: hired, dtype: float64"
      ]
     },
     "execution_count": 97,
     "metadata": {},
     "output_type": "execute_result"
    }
   ],
   "source": [
    "# Split cleaners into result_position groups and find hiring rate for each result_position group\n",
    "bins = pd.IntervalIndex.from_tuples([(0, 1), (1, 2), (2, 3), (3, 4), (4, 5), (5, 30)])\n",
    "hc_data['hired'].groupby(pd.cut(hc_data['result_position'],bins)).mean()"
   ]
  },
  {
   "cell_type": "code",
   "execution_count": 98,
   "metadata": {},
   "outputs": [
    {
     "data": {
      "image/png": "[encoded data removed]",
      "text/plain": [
       "<Figure size 432x288 with 1 Axes>"
      ]
     },
     "metadata": {
      "needs_background": "light"
     },
     "output_type": "display_data"
    }
   ],
   "source": [
    "# Create a density plot to view the distribution for the result_position for hired vs unhired contractors\n",
    "# Starting with the House Cleaning Data\n",
    "ax = sns.kdeplot(lm_data[\"result_position\"][lm_data.hired == 1], color=\"darkturquoise\", shade=True)\n",
    "sns.kdeplot(lm_data[\"result_position\"][lm_data.hired == 0], color=\"lightcoral\", shade=True)\n",
    "plt.legend(['Hired', 'Not Hired'])\n",
    "plt.title('Density Plot of Result Position for Hired Movers')\n",
    "ax.set(xlabel='Result Position')\n",
    "plt.xlim(0,30)\n",
    "plt.show()"
   ]
  },
  {
   "cell_type": "code",
   "execution_count": 99,
   "metadata": {},
   "outputs": [
    {
     "data": {
      "text/plain": [
       "result_position\n",
       "(0, 1]     0.057180\n",
       "(1, 2]     0.021466\n",
       "(2, 3]     0.013949\n",
       "(3, 4]     0.011025\n",
       "(4, 5]     0.007911\n",
       "(5, 30]    0.004755\n",
       "Name: hired, dtype: float64"
      ]
     },
     "execution_count": 99,
     "metadata": {},
     "output_type": "execute_result"
    }
   ],
   "source": [
    "# Split movers into result_position groups and find hiring rate for each result_position group\n",
    "bins = pd.IntervalIndex.from_tuples([(0, 1), (1, 2), (2, 3), (3, 4), (4, 5), (5, 30)])\n",
    "lm_data['hired'].groupby(pd.cut(lm_data['result_position'],bins)).mean()"
   ]
  },
  {
   "cell_type": "markdown",
   "metadata": {},
   "source": [
    "As we can see from our density plots, the large majority of contractors hired were often the first search result displayed to the visitors. This seems to be a strong predictor for our model."
   ]
  },
  {
   "cell_type": "markdown",
   "metadata": {},
   "source": [
    "#### Exploring Cost"
   ]
  },
  {
   "cell_type": "code",
   "execution_count": 100,
   "metadata": {},
   "outputs": [
    {
     "data": {
      "image/png": "[encoded data removed]",
      "text/plain": [
       "<Figure size 432x288 with 1 Axes>"
      ]
     },
     "metadata": {
      "needs_background": "light"
     },
     "output_type": "display_data"
    }
   ],
   "source": [
    "# Create a density plot to view the distribution for the cost estimation for hired vs unhired contractors\n",
    "# Starting with the House Cleaning Data\n",
    "ax = sns.kdeplot(hc_data[\"cost_estimate_dollars\"][hc_data.hired == 1], color=\"darkturquoise\", shade=True)\n",
    "sns.kdeplot(hc_data[\"cost_estimate_dollars\"][hc_data.hired == 0], color=\"lightcoral\", shade=True)\n",
    "plt.legend(['Hired', 'Not Hired'])\n",
    "plt.title('Density Plot of Cost for Hired Cleaners')\n",
    "ax.set(xlabel='Cost Estimate')\n",
    "plt.xlim(0,200)\n",
    "plt.show()"
   ]
  },
  {
   "cell_type": "code",
   "execution_count": 101,
   "metadata": {},
   "outputs": [
    {
     "data": {
      "image/png": "[encoded data removed]",
      "text/plain": [
       "<Figure size 432x288 with 1 Axes>"
      ]
     },
     "metadata": {
      "needs_background": "light"
     },
     "output_type": "display_data"
    }
   ],
   "source": [
    "# Create a density plot to view the distribution for the cost estimation for hired vs unhired contractors\n",
    "# Local Moving data\n",
    "ax = sns.kdeplot(lm_data[\"cost_estimate_dollars\"][lm_data.hired == 1], color=\"darkturquoise\", shade=True)\n",
    "sns.kdeplot(lm_data[\"cost_estimate_dollars\"][lm_data.hired == 0], color=\"lightcoral\", shade=True)\n",
    "plt.legend(['Hired', 'Not Hired'])\n",
    "plt.title('Density Plot of Cost for Hired Movers')\n",
    "ax.set(xlabel='Cost Estimate')\n",
    "plt.xlim(0,200)\n",
    "plt.show()"
   ]
  },
  {
   "cell_type": "markdown",
   "metadata": {},
   "source": [
    "The cost distributions between hired and unhired workers are clearly different. Generally, a lower cost estimate is associated with a larger chance of being hired. Furthermore, both the house cleaning and local moving contractors most often hired seem to have price estimates ranging from $75-$100."
   ]
  },
  {
   "cell_type": "markdown",
   "metadata": {},
   "source": [
    "#### Exploring days_since_pro_last_active"
   ]
  },
  {
   "cell_type": "code",
   "execution_count": 102,
   "metadata": {},
   "outputs": [
    {
     "data": {
      "image/png": "[encoded data removed]",
      "text/plain": [
       "<Figure size 432x288 with 1 Axes>"
      ]
     },
     "metadata": {
      "needs_background": "light"
     },
     "output_type": "display_data"
    }
   ],
   "source": [
    "# Create a density plot to view the distribution for the days since last active for hired vs unhired contractors\n",
    "# Starting with the House Cleaning Data\n",
    "ax = sns.kdeplot(hc_data[\"days_since_pro_last_active\"][hc_data.hired == 1], color=\"darkturquoise\", shade=True)\n",
    "sns.kdeplot(hc_data[\"days_since_pro_last_active\"][hc_data.hired == 0], color=\"lightcoral\", shade=True)\n",
    "plt.legend(['Hired', 'Not Hired'])\n",
    "plt.title('Density Plot of Days Since Last Active for Hired Cleaners')\n",
    "ax.set(xlabel='Days')\n",
    "plt.xlim(0,200)\n",
    "plt.show()"
   ]
  },
  {
   "cell_type": "code",
   "execution_count": 103,
   "metadata": {},
   "outputs": [
    {
     "data": {
      "image/png": "[encoded data removed]",
      "text/plain": [
       "<Figure size 432x288 with 1 Axes>"
      ]
     },
     "metadata": {
      "needs_background": "light"
     },
     "output_type": "display_data"
    }
   ],
   "source": [
    "# Create a density plot to view the distribution for the days since last active for hired vs unhired contractors\n",
    "# Local moving data\n",
    "ax = sns.kdeplot(lm_data[\"days_since_pro_last_active\"][lm_data.hired == 1], color=\"darkturquoise\", shade=True)\n",
    "sns.kdeplot(lm_data[\"days_since_pro_last_active\"][lm_data.hired == 0], color=\"lightcoral\", shade=True)\n",
    "plt.legend(['Hired', 'Not Hired'])\n",
    "plt.title('Density Plot of Days Since Last Active for Hired Movers')\n",
    "ax.set(xlabel='Days')\n",
    "plt.xlim(0,25)\n",
    "plt.show()"
   ]
  },
  {
   "cell_type": "code",
   "execution_count": 104,
   "metadata": {},
   "outputs": [
    {
     "data": {
      "text/html": [
       "<div>\n",
       "<style scoped>\n",
       "    .dataframe tbody tr th:only-of-type {\n",
       "        vertical-align: middle;\n",
       "    }\n",
       "\n",
       "    .dataframe tbody tr th {\n",
       "        vertical-align: top;\n",
       "    }\n",
       "\n",
       "    .dataframe thead th {\n",
       "        text-align: right;\n",
       "    }\n",
       "</style>\n",
       "<table border=\"1\" class=\"dataframe\">\n",
       "  <thead>\n",
       "    <tr style=\"text-align: right;\">\n",
       "      <th></th>\n",
       "      <th>row_number</th>\n",
       "      <th>visitor_id</th>\n",
       "      <th>category</th>\n",
       "      <th>pro_user_id</th>\n",
       "      <th>num_reviews</th>\n",
       "      <th>avg_rating</th>\n",
       "      <th>result_position</th>\n",
       "      <th>service_page_viewed</th>\n",
       "      <th>contact_id</th>\n",
       "      <th>hired</th>\n",
       "      <th>days_since_pro_last_active</th>\n",
       "      <th>cost_estimate_dollars</th>\n",
       "    </tr>\n",
       "  </thead>\n",
       "  <tbody>\n",
       "    <tr>\n",
       "      <th>1</th>\n",
       "      <td>8426</td>\n",
       "      <td>344461605879021000</td>\n",
       "      <td>House Cleaning</td>\n",
       "      <td>344053677817806000</td>\n",
       "      <td>0</td>\n",
       "      <td>4.681478</td>\n",
       "      <td>6</td>\n",
       "      <td>0</td>\n",
       "      <td>0</td>\n",
       "      <td>0</td>\n",
       "      <td>1.0</td>\n",
       "      <td>89.0</td>\n",
       "    </tr>\n",
       "    <tr>\n",
       "      <th>2</th>\n",
       "      <td>12809</td>\n",
       "      <td>344142189241475000</td>\n",
       "      <td>House Cleaning</td>\n",
       "      <td>343931062348177000</td>\n",
       "      <td>0</td>\n",
       "      <td>4.681478</td>\n",
       "      <td>21</td>\n",
       "      <td>0</td>\n",
       "      <td>0</td>\n",
       "      <td>0</td>\n",
       "      <td>1.0</td>\n",
       "      <td>100.0</td>\n",
       "    </tr>\n",
       "    <tr>\n",
       "      <th>3</th>\n",
       "      <td>17310</td>\n",
       "      <td>344215295106097000</td>\n",
       "      <td>House Cleaning</td>\n",
       "      <td>343931062348177000</td>\n",
       "      <td>0</td>\n",
       "      <td>4.681478</td>\n",
       "      <td>22</td>\n",
       "      <td>0</td>\n",
       "      <td>0</td>\n",
       "      <td>0</td>\n",
       "      <td>1.0</td>\n",
       "      <td>100.0</td>\n",
       "    </tr>\n",
       "    <tr>\n",
       "      <th>4</th>\n",
       "      <td>10072</td>\n",
       "      <td>344364289304010000</td>\n",
       "      <td>House Cleaning</td>\n",
       "      <td>343934345272852000</td>\n",
       "      <td>0</td>\n",
       "      <td>4.681478</td>\n",
       "      <td>13</td>\n",
       "      <td>0</td>\n",
       "      <td>0</td>\n",
       "      <td>0</td>\n",
       "      <td>1.0</td>\n",
       "      <td>90.0</td>\n",
       "    </tr>\n",
       "    <tr>\n",
       "      <th>5</th>\n",
       "      <td>12571</td>\n",
       "      <td>344282205136609000</td>\n",
       "      <td>House Cleaning</td>\n",
       "      <td>343934345272852000</td>\n",
       "      <td>0</td>\n",
       "      <td>4.681478</td>\n",
       "      <td>25</td>\n",
       "      <td>0</td>\n",
       "      <td>0</td>\n",
       "      <td>0</td>\n",
       "      <td>1.0</td>\n",
       "      <td>110.0</td>\n",
       "    </tr>\n",
       "  </tbody>\n",
       "</table>\n",
       "</div>"
      ],
      "text/plain": [
       "   row_number          visitor_id        category         pro_user_id  \\\n",
       "1        8426  344461605879021000  House Cleaning  344053677817806000   \n",
       "2       12809  344142189241475000  House Cleaning  343931062348177000   \n",
       "3       17310  344215295106097000  House Cleaning  343931062348177000   \n",
       "4       10072  344364289304010000  House Cleaning  343934345272852000   \n",
       "5       12571  344282205136609000  House Cleaning  343934345272852000   \n",
       "\n",
       "   num_reviews  avg_rating  result_position  service_page_viewed  contact_id  \\\n",
       "1            0    4.681478                6                    0           0   \n",
       "2            0    4.681478               21                    0           0   \n",
       "3            0    4.681478               22                    0           0   \n",
       "4            0    4.681478               13                    0           0   \n",
       "5            0    4.681478               25                    0           0   \n",
       "\n",
       "   hired  days_since_pro_last_active  cost_estimate_dollars  \n",
       "1      0                         1.0                   89.0  \n",
       "2      0                         1.0                  100.0  \n",
       "3      0                         1.0                  100.0  \n",
       "4      0                         1.0                   90.0  \n",
       "5      0                         1.0                  110.0  "
      ]
     },
     "execution_count": 104,
     "metadata": {},
     "output_type": "execute_result"
    }
   ],
   "source": [
    "hc_data.head()"
   ]
  },
  {
   "cell_type": "markdown",
   "metadata": {},
   "source": [
    "### Step 6: Prepping data for regression"
   ]
  },
  {
   "cell_type": "markdown",
   "metadata": {},
   "source": [
    "We don't have any categorical variables that need to be transformed.\n",
    "\n",
    "However, we must drop some columns that we do not want taken into account for our model: row_number, visitor_id, pro_user_id, and category.\n",
    "\n",
    "We must also seperate the service_page_viewed abd contact_id columns from the dataset to avoid multicollinearity and because we can use page visits and contacts as our target variables in the future."
   ]
  },
  {
   "cell_type": "code",
   "execution_count": 105,
   "metadata": {},
   "outputs": [],
   "source": [
    "# drop unneccessary variables\n",
    "hc_data.drop(['row_number','visitor_id','pro_user_id','category'], axis=1, inplace=True)\n",
    "lm_data.drop(['row_number','visitor_id','pro_user_id','category'], axis=1, inplace=True)"
   ]
  },
  {
   "cell_type": "markdown",
   "metadata": {},
   "source": [
    "### Step 7: Regression and results"
   ]
  },
  {
   "cell_type": "code",
   "execution_count": 106,
   "metadata": {},
   "outputs": [],
   "source": [
    "Xhc = hc_data.copy()\n",
    "Xlm = lm_data.copy()\n",
    "\n",
    "hc_hired = Xhc.hired\n",
    "lm_hired = Xlm.hired\n",
    "\n",
    "hc_contacted = Xhc.contact_id\n",
    "lm_contacted = Xlm.contact_id\n",
    "\n",
    "hc_page_visit = Xhc.service_page_viewed\n",
    "lm_page_visit = Xlm.service_page_viewed\n",
    "\n",
    "Xhc.drop(['hired','contact_id','service_page_viewed'], axis=1, inplace=True)\n",
    "Xlm.drop(['hired','contact_id','service_page_viewed'], axis=1, inplace=True)"
   ]
  },
  {
   "cell_type": "markdown",
   "metadata": {},
   "source": [
    "In order to use the Y with SciKit Learn, we need to set it as a 1-D array. This means we need to \"flatten\" the array. Numpy has a built in method for this called ravel"
   ]
  },
  {
   "cell_type": "code",
   "execution_count": 107,
   "metadata": {},
   "outputs": [],
   "source": [
    "# Flatten arrays\n",
    "hc_hired = np.ravel(hc_hired)\n",
    "lm_hired = np.ravel(lm_hired)\n",
    "\n",
    "hc_contacted = np.ravel(hc_contacted)\n",
    "lm_contacted = np.ravel(lm_contacted)\n",
    "\n",
    "hc_page_vist = np.ravel(hc_page_visit)\n",
    "lm_page_vist = np.ravel(lm_page_visit)"
   ]
  },
  {
   "cell_type": "code",
   "execution_count": 108,
   "metadata": {},
   "outputs": [
    {
     "data": {
      "text/plain": [
       "0.9890836569749134"
      ]
     },
     "execution_count": 108,
     "metadata": {},
     "output_type": "execute_result"
    }
   ],
   "source": [
    "#Create LogisticRegression model\n",
    "log_model = LogisticRegression()\n",
    "\n",
    "# Fit our data for house cleaners and set hired as our target\n",
    "log_model.fit(Xhc,hc_hired)\n",
    "\n",
    "# Check our accuracy\n",
    "log_model.score(Xhc,hc_hired)"
   ]
  },
  {
   "cell_type": "markdown",
   "metadata": {},
   "source": [
    "##### Now let's check the model's coefficients to see which features were most important and then we'll do the same for local movers.\n",
    "\n",
    "Let's go ahead and compare this to the original Y data. We can do this by simply taking the mean of the Y data, since it is in the format 1 or 0, we can use the mean to calulate the percentage of passengers who survived. This is known as checking the null error rate."
   ]
  },
  {
   "cell_type": "code",
   "execution_count": 109,
   "metadata": {},
   "outputs": [
    {
     "name": "stdout",
     "output_type": "stream",
     "text": [
      "Percent of hired cleaners is 0.01%\n"
     ]
    }
   ],
   "source": [
    "# Check percentage of hired cleaners\n",
    "print('Percent of hired cleaners is %.2f%%' %(hc_hired.mean()))"
   ]
  },
  {
   "cell_type": "code",
   "execution_count": 110,
   "metadata": {},
   "outputs": [],
   "source": [
    "# Use zip to bring the column names and the np.transpose function to bring together the coefficients from the model\n",
    "coeff_df = DataFrame(zip(Xhc.columns, np.transpose(log_model.coef_)))"
   ]
  },
  {
   "cell_type": "code",
   "execution_count": 111,
   "metadata": {
    "scrolled": true
   },
   "outputs": [
    {
     "data": {
      "text/html": [
       "<div>\n",
       "<style scoped>\n",
       "    .dataframe tbody tr th:only-of-type {\n",
       "        vertical-align: middle;\n",
       "    }\n",
       "\n",
       "    .dataframe tbody tr th {\n",
       "        vertical-align: top;\n",
       "    }\n",
       "\n",
       "    .dataframe thead th {\n",
       "        text-align: right;\n",
       "    }\n",
       "</style>\n",
       "<table border=\"1\" class=\"dataframe\">\n",
       "  <thead>\n",
       "    <tr style=\"text-align: right;\">\n",
       "      <th></th>\n",
       "      <th>0</th>\n",
       "      <th>1</th>\n",
       "    </tr>\n",
       "  </thead>\n",
       "  <tbody>\n",
       "    <tr>\n",
       "      <th>0</th>\n",
       "      <td>num_reviews</td>\n",
       "      <td>[0.0012325549774260234]</td>\n",
       "    </tr>\n",
       "    <tr>\n",
       "      <th>1</th>\n",
       "      <td>avg_rating</td>\n",
       "      <td>[0.012400715192360214]</td>\n",
       "    </tr>\n",
       "    <tr>\n",
       "      <th>2</th>\n",
       "      <td>result_position</td>\n",
       "      <td>[-0.4504537457363683]</td>\n",
       "    </tr>\n",
       "    <tr>\n",
       "      <th>3</th>\n",
       "      <td>days_since_pro_last_active</td>\n",
       "      <td>[0.0009230100745836866]</td>\n",
       "    </tr>\n",
       "    <tr>\n",
       "      <th>4</th>\n",
       "      <td>cost_estimate_dollars</td>\n",
       "      <td>[-0.003234470678862568]</td>\n",
       "    </tr>\n",
       "  </tbody>\n",
       "</table>\n",
       "</div>"
      ],
      "text/plain": [
       "                            0                        1\n",
       "0                 num_reviews  [0.0012325549774260234]\n",
       "1                  avg_rating   [0.012400715192360214]\n",
       "2             result_position    [-0.4504537457363683]\n",
       "3  days_since_pro_last_active  [0.0009230100745836866]\n",
       "4       cost_estimate_dollars  [-0.003234470678862568]"
      ]
     },
     "execution_count": 111,
     "metadata": {},
     "output_type": "execute_result"
    }
   ],
   "source": [
    "coeff_df"
   ]
  },
  {
   "cell_type": "markdown",
   "metadata": {},
   "source": [
    "Let's also look at the p-values for our coefficients"
   ]
  },
  {
   "cell_type": "code",
   "execution_count": 118,
   "metadata": {},
   "outputs": [
    {
     "name": "stdout",
     "output_type": "stream",
     "text": [
      "Optimization terminated successfully.\n",
      "         Current function value: 0.051813\n",
      "         Iterations 11\n",
      "                           Logit Regression Results                           \n",
      "==============================================================================\n",
      "Dep. Variable:                      y   No. Observations:                19054\n",
      "Model:                          Logit   Df Residuals:                    19049\n",
      "Method:                           MLE   Df Model:                            4\n",
      "Date:                Fri, 24 Jul 2020   Pseudo R-squ.:                  0.1389\n",
      "Time:                        20:54:06   Log-Likelihood:                -987.24\n",
      "converged:                       True   LL-Null:                       -1146.5\n",
      "                                        LLR p-value:                 1.093e-67\n",
      "==============================================================================================\n",
      "                                 coef    std err          z      P>|z|      [0.025      0.975]\n",
      "----------------------------------------------------------------------------------------------\n",
      "num_reviews                    0.0008      0.001      1.142      0.254      -0.001       0.002\n",
      "avg_rating                    -0.4517      0.047     -9.564      0.000      -0.544      -0.359\n",
      "result_position               -0.4744      0.041    -11.601      0.000      -0.555      -0.394\n",
      "days_since_pro_last_active     0.0006      0.002      0.359      0.720      -0.003       0.004\n",
      "cost_estimate_dollars         -0.0044      0.002     -2.255      0.024      -0.008      -0.001\n",
      "==============================================================================================\n",
      "\n",
      "Possibly complete quasi-separation: A fraction 0.20 of observations can be\n",
      "perfectly predicted. This might indicate that there is complete\n",
      "quasi-separation. In this case some parameters will not be identified.\n"
     ]
    }
   ],
   "source": [
    "import statsmodels.api as sm\n",
    "logit_model=sm.Logit(hc_hired,Xhc)\n",
    "result=logit_model.fit()\n",
    "print(result.summary())"
   ]
  },
  {
   "cell_type": "code",
   "execution_count": null,
   "metadata": {},
   "outputs": [],
   "source": []
  },
  {
   "cell_type": "code",
   "execution_count": null,
   "metadata": {},
   "outputs": [],
   "source": []
  },
  {
   "cell_type": "markdown",
   "metadata": {},
   "source": [
    " \n",
    " "
   ]
  },
  {
   "cell_type": "code",
   "execution_count": 113,
   "metadata": {},
   "outputs": [
    {
     "data": {
      "text/plain": [
       "0.9780079455164585"
      ]
     },
     "execution_count": 113,
     "metadata": {},
     "output_type": "execute_result"
    }
   ],
   "source": [
    "#Create LogisticRegression model for the local moving data\n",
    "log_model2 = LogisticRegression()\n",
    "\n",
    "# Fit our data for house cleaners and set hired as our target\n",
    "log_model2.fit(Xlm,lm_hired)\n",
    "\n",
    "# Check our accuracy\n",
    "log_model2.score(Xlm,lm_hired)"
   ]
  },
  {
   "cell_type": "code",
   "execution_count": 114,
   "metadata": {},
   "outputs": [
    {
     "name": "stdout",
     "output_type": "stream",
     "text": [
      "Percent of hired movers is 0.02%\n"
     ]
    }
   ],
   "source": [
    "# Check percentage of hired movers\n",
    "print('Percent of hired movers is %.2f%%' %(lm_hired.mean()))"
   ]
  },
  {
   "cell_type": "code",
   "execution_count": 115,
   "metadata": {
    "scrolled": false
   },
   "outputs": [
    {
     "data": {
      "text/html": [
       "<div>\n",
       "<style scoped>\n",
       "    .dataframe tbody tr th:only-of-type {\n",
       "        vertical-align: middle;\n",
       "    }\n",
       "\n",
       "    .dataframe tbody tr th {\n",
       "        vertical-align: top;\n",
       "    }\n",
       "\n",
       "    .dataframe thead th {\n",
       "        text-align: right;\n",
       "    }\n",
       "</style>\n",
       "<table border=\"1\" class=\"dataframe\">\n",
       "  <thead>\n",
       "    <tr style=\"text-align: right;\">\n",
       "      <th></th>\n",
       "      <th>0</th>\n",
       "      <th>1</th>\n",
       "    </tr>\n",
       "  </thead>\n",
       "  <tbody>\n",
       "    <tr>\n",
       "      <th>0</th>\n",
       "      <td>num_reviews</td>\n",
       "      <td>[0.000454576557131964]</td>\n",
       "    </tr>\n",
       "    <tr>\n",
       "      <th>1</th>\n",
       "      <td>avg_rating</td>\n",
       "      <td>[-0.043379212349856026]</td>\n",
       "    </tr>\n",
       "    <tr>\n",
       "      <th>2</th>\n",
       "      <td>result_position</td>\n",
       "      <td>[-0.40073272739503696]</td>\n",
       "    </tr>\n",
       "    <tr>\n",
       "      <th>3</th>\n",
       "      <td>days_since_pro_last_active</td>\n",
       "      <td>[-0.07214601859321108]</td>\n",
       "    </tr>\n",
       "    <tr>\n",
       "      <th>4</th>\n",
       "      <td>cost_estimate_dollars</td>\n",
       "      <td>[-0.021209517976580876]</td>\n",
       "    </tr>\n",
       "  </tbody>\n",
       "</table>\n",
       "</div>"
      ],
      "text/plain": [
       "                            0                        1\n",
       "0                 num_reviews   [0.000454576557131964]\n",
       "1                  avg_rating  [-0.043379212349856026]\n",
       "2             result_position   [-0.40073272739503696]\n",
       "3  days_since_pro_last_active   [-0.07214601859321108]\n",
       "4       cost_estimate_dollars  [-0.021209517976580876]"
      ]
     },
     "execution_count": 115,
     "metadata": {},
     "output_type": "execute_result"
    }
   ],
   "source": [
    "# Use zip to bring the column names and the np.transpose function to bring together the coefficients from the model\n",
    "coeff_df2 = DataFrame(zip(Xlm.columns, np.transpose(log_model2.coef_)))\n",
    "coeff_df2"
   ]
  },
  {
   "cell_type": "code",
   "execution_count": 119,
   "metadata": {},
   "outputs": [
    {
     "name": "stdout",
     "output_type": "stream",
     "text": [
      "Optimization terminated successfully.\n",
      "         Current function value: 0.096257\n",
      "         Iterations 11\n",
      "                           Logit Regression Results                           \n",
      "==============================================================================\n",
      "Dep. Variable:                      y   No. Observations:                 7048\n",
      "Model:                          Logit   Df Residuals:                     7043\n",
      "Method:                           MLE   Df Model:                            4\n",
      "Date:                Fri, 24 Jul 2020   Pseudo R-squ.:                 0.08929\n",
      "Time:                        20:54:54   Log-Likelihood:                -678.42\n",
      "converged:                       True   LL-Null:                       -744.93\n",
      "                                        LLR p-value:                 8.771e-28\n",
      "==============================================================================================\n",
      "                                 coef    std err          z      P>|z|      [0.025      0.975]\n",
      "----------------------------------------------------------------------------------------------\n",
      "num_reviews                    0.0004      0.000      1.138      0.255      -0.000       0.001\n",
      "avg_rating                    -0.1492      0.081     -1.840      0.066      -0.308       0.010\n",
      "result_position               -0.4063      0.064     -6.374      0.000      -0.531      -0.281\n",
      "days_since_pro_last_active    -0.0734      0.038     -1.930      0.054      -0.148       0.001\n",
      "cost_estimate_dollars         -0.0216      0.004     -5.207      0.000      -0.030      -0.013\n",
      "==============================================================================================\n"
     ]
    }
   ],
   "source": [
    "import statsmodels.api as sm\n",
    "logit_model=sm.Logit(lm_hired,Xlm)\n",
    "result=logit_model.fit()\n",
    "print(result.summary())"
   ]
  },
  {
   "cell_type": "markdown",
   "metadata": {},
   "source": [
    " "
   ]
  },
  {
   "cell_type": "markdown",
   "metadata": {},
   "source": [
    "### Conclusion:\n",
    "\n",
    "In conclusion, our model indicates that result position is the largest indicator of a contractor being hired. Having a good avg_rating is important; however, as most contractors have high competitive avg_ratings, the contractor's result position seems to make or break their chances of being hired. \n",
    "\n",
    "To help customers find the right pros and make more informed decisions, I reccomend that ThumbTack make the avg_ratings out of 10 instead of 5 and add a new metric to display the number of times the contractor was hired. Furthermore, I would allow customers to filter their searched by these features."
   ]
  },
  {
   "cell_type": "code",
   "execution_count": null,
   "metadata": {},
   "outputs": [],
   "source": []
  }
 ],
 "metadata": {
  "kernelspec": {
   "display_name": "Python 3",
   "language": "python",
   "name": "python3"
  }
 },
 "nbformat": 4,
 "nbformat_minor": 4
}
